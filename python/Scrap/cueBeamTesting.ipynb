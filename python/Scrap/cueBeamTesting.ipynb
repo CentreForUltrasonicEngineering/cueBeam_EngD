{
 "cells": [
  {
   "cell_type": "code",
   "execution_count": 24,
   "metadata": {
    "collapsed": true
   },
   "outputs": [],
   "source": [
    "import cueBeamCore\n",
    "import numpy\n",
    "import matplotlib.pyplot as plt\n",
    "q=cueBeamCore.CueBeamSolver()\n",
    "q.elements\n",
    "q.wavenumber = 3e4\n",
    "q.rxPlane.x0= 0.1\n",
    "q.rxPlane.y0 = -5.0e-3\n",
    "q.rxPlane.z0 = -5.0e-3\n",
    "q.rxPlane.dy = 0.1e-3\n",
    "q.rxPlane.dz = 0.1e-3\n",
    "q.rxPlane.ny = 100\n",
    "q.rxPlane.nz = 100\n",
    "q.rxPlane.clear_pressurefield()\n",
    "q.beamsim()\n",
    "q.rxPlane.pressurefield\n",
    "imgplot = plt.imshow(\n",
    "    X=numpy.real(q.rxPlane.pressurefield),\n",
    "    extent=(q.rxPlane.z0,q.rxPlane.nz*q.rxPlane.dz,q.rxPlane.y0,q.rxPlane.y0+q.rxPlane.ny*q.rxPlane.dy),\n",
    "    interpolation = \"spline36\")\n",
    "plt.show()"
   ]
  },
  {
   "cell_type": "code",
   "execution_count": 2,
   "metadata": {},
   "outputs": [
    {
     "data": {
      "text/plain": [
       "[<cueBeamCore.CueBeamSolver.TxElement at 0x4af3cc0>,\n <cueBeamCore.CueBeamSolver.TxElement at 0x4af3d30>,\n <cueBeamCore.CueBeamSolver.TxElement at 0x4af3d68>,\n <cueBeamCore.CueBeamSolver.TxElement at 0x4d89940>,\n <cueBeamCore.CueBeamSolver.TxElement at 0x4be1358>]"
      ]
     },
     "execution_count": 2,
     "metadata": {},
     "output_type": "execute_result"
    }
   ],
   "source": [
    "q.elements"
   ]
  },
  {
   "cell_type": "code",
   "execution_count": 27,
   "metadata": {},
   "outputs": [
    {
     "name": "stdout",
     "output_type": "stream",
     "text": [
      "Help on function colormaps in module matplotlib.pyplot:\n\ncolormaps()\n    Matplotlib provides a number of colormaps, and others can be added using\n    :func:`~matplotlib.cm.register_cmap`.  This function documents the built-in\n    colormaps, and will also return a list of all registered colormaps if called.\n    \n    You can set the colormap for an image, pcolor, scatter, etc,\n    using a keyword argument::\n    \n      imshow(X, cmap=cm.hot)\n    \n    or using the :func:`set_cmap` function::\n    \n      imshow(X)\n      pyplot.set_cmap('hot')\n      pyplot.set_cmap('jet')\n    \n    In interactive mode, :func:`set_cmap` will update the colormap post-hoc,\n    allowing you to see which one works best for your data.\n    \n    All built-in colormaps can be reversed by appending ``_r``: For instance,\n    ``gray_r`` is the reverse of ``gray``.\n    \n    There are several common color schemes used in visualization:\n    \n    Sequential schemes\n      for unipolar data that progresses from low to high\n    Diverging schemes\n      for bipolar data that emphasizes positive or negative deviations from a\n      central value\n    Cyclic schemes\n      meant for plotting values that wrap around at the\n      endpoints, such as phase angle, wind direction, or time of day\n    Qualitative schemes\n      for nominal data that has no inherent ordering, where color is used\n      only to distinguish categories\n    \n    The base colormaps are derived from those of the same name provided\n    with Matlab:\n    \n      =========   =======================================================\n      Colormap    Description\n      =========   =======================================================\n      autumn      sequential linearly-increasing shades of red-orange-yellow\n      bone        sequential increasing black-white color map with\n                  a tinge of blue, to emulate X-ray film\n      cool        linearly-decreasing shades of cyan-magenta\n      copper      sequential increasing shades of black-copper\n      flag        repetitive red-white-blue-black pattern (not cyclic at\n                  endpoints)\n      gray        sequential linearly-increasing black-to-white\n                  grayscale\n      hot         sequential black-red-yellow-white, to emulate blackbody\n                  radiation from an object at increasing temperatures\n      hsv         cyclic red-yellow-green-cyan-blue-magenta-red, formed\n                  by changing the hue component in the HSV color space\n      inferno     perceptually uniform shades of black-red-yellow\n      jet         a spectral map with dark endpoints, blue-cyan-yellow-red;\n                  based on a fluid-jet simulation by NCSA [#]_\n      magma       perceptually uniform shades of black-red-white\n      pink        sequential increasing pastel black-pink-white, meant\n                  for sepia tone colorization of photographs\n      plasma      perceptually uniform shades of blue-red-yellow\n      prism       repetitive red-yellow-green-blue-purple-...-green pattern\n                  (not cyclic at endpoints)\n      spring      linearly-increasing shades of magenta-yellow\n      summer      sequential linearly-increasing shades of green-yellow\n      viridis     perceptually uniform shades of blue-green-yellow\n      winter      linearly-increasing shades of blue-green\n      =========   =======================================================\n    \n    For the above list only, you can also set the colormap using the\n    corresponding pylab shortcut interface function, similar to Matlab::\n    \n      imshow(X)\n      hot()\n      jet()\n    \n    The next set of palettes are from the `Yorick scientific visualisation\n    package <http://dhmunro.github.io/yorick-doc/>`_, an evolution of\n    the GIST package, both by David H. Munro:\n    \n      ============  =======================================================\n      Colormap      Description\n      ============  =======================================================\n      gist_earth    mapmaker's colors from dark blue deep ocean to green\n                    lowlands to brown highlands to white mountains\n      gist_heat     sequential increasing black-red-orange-white, to emulate\n                    blackbody radiation from an iron bar as it grows hotter\n      gist_ncar     pseudo-spectral black-blue-green-yellow-red-purple-white\n                    colormap from National Center for Atmospheric\n                    Research [#]_\n      gist_rainbow  runs through the colors in spectral order from red to\n                    violet at full saturation (like *hsv* but not cyclic)\n      gist_stern    \"Stern special\" color table from Interactive Data\n                    Language software\n      ============  =======================================================\n    \n    The following colormaps are based on the `ColorBrewer\n    <http://colorbrewer2.org>`_ color specifications and designs developed by\n    Cynthia Brewer:\n    \n    ColorBrewer Diverging (luminance is highest at the midpoint, and\n    decreases towards differently-colored endpoints):\n    \n      ========  ===================================\n      Colormap  Description\n      ========  ===================================\n      BrBG      brown, white, blue-green\n      PiYG      pink, white, yellow-green\n      PRGn      purple, white, green\n      PuOr      orange, white, purple\n      RdBu      red, white, blue\n      RdGy      red, white, gray\n      RdYlBu    red, yellow, blue\n      RdYlGn    red, yellow, green\n      Spectral  red, orange, yellow, green, blue\n      ========  ===================================\n    \n    ColorBrewer Sequential (luminance decreases monotonically):\n    \n      ========  ====================================\n      Colormap  Description\n      ========  ====================================\n      Blues     white to dark blue\n      BuGn      white, light blue, dark green\n      BuPu      white, light blue, dark purple\n      GnBu      white, light green, dark blue\n      Greens    white to dark green\n      Greys     white to black (not linear)\n      Oranges   white, orange, dark brown\n      OrRd      white, orange, dark red\n      PuBu      white, light purple, dark blue\n      PuBuGn    white, light purple, dark green\n      PuRd      white, light purple, dark red\n      Purples   white to dark purple\n      RdPu      white, pink, dark purple\n      Reds      white to dark red\n      YlGn      light yellow, dark green\n      YlGnBu    light yellow, light green, dark blue\n      YlOrBr    light yellow, orange, dark brown\n      YlOrRd    light yellow, orange, dark red\n      ========  ====================================\n    \n    ColorBrewer Qualitative:\n    \n    (For plotting nominal data, :class:`ListedColormap` is used,\n    not :class:`LinearSegmentedColormap`.  Different sets of colors are\n    recommended for different numbers of categories.)\n    \n    * Accent\n    * Dark2\n    * Paired\n    * Pastel1\n    * Pastel2\n    * Set1\n    * Set2\n    * Set3\n    \n    Other miscellaneous schemes:\n    \n      ============= =======================================================\n      Colormap      Description\n      ============= =======================================================\n      afmhot        sequential black-orange-yellow-white blackbody\n                    spectrum, commonly used in atomic force microscopy\n      brg           blue-red-green\n      bwr           diverging blue-white-red\n      coolwarm      diverging blue-gray-red, meant to avoid issues with 3D\n                    shading, color blindness, and ordering of colors [#]_\n      CMRmap        \"Default colormaps on color images often reproduce to\n                    confusing grayscale images. The proposed colormap\n                    maintains an aesthetically pleasing color image that\n                    automatically reproduces to a monotonic grayscale with\n                    discrete, quantifiable saturation levels.\" [#]_\n      cubehelix     Unlike most other color schemes cubehelix was designed\n                    by D.A. Green to be monotonically increasing in terms\n                    of perceived brightness. Also, when printed on a black\n                    and white postscript printer, the scheme results in a\n                    greyscale with monotonically increasing brightness.\n                    This color scheme is named cubehelix because the r,g,b\n                    values produced can be visualised as a squashed helix\n                    around the diagonal in the r,g,b color cube.\n      gnuplot       gnuplot's traditional pm3d scheme\n                    (black-blue-red-yellow)\n      gnuplot2      sequential color printable as gray\n                    (black-blue-violet-yellow-white)\n      ocean         green-blue-white\n      rainbow       spectral purple-blue-green-yellow-orange-red colormap\n                    with diverging luminance\n      seismic       diverging blue-white-red\n      nipy_spectral black-purple-blue-green-yellow-red-white spectrum,\n                    originally from the Neuroimaging in Python project\n      terrain       mapmaker's colors, blue-green-yellow-brown-white,\n                    originally from IGOR Pro\n      ============= =======================================================\n    \n    The following colormaps are redundant and may be removed in future\n    versions.  It's recommended to use the names in the descriptions\n    instead, which produce identical output:\n    \n      =========  =======================================================\n      Colormap   Description\n      =========  =======================================================\n      gist_gray  identical to *gray*\n      gist_yarg  identical to *gray_r*\n      binary     identical to *gray_r*\n      spectral   identical to *nipy_spectral* [#]_\n      =========  =======================================================\n    \n    .. rubric:: Footnotes\n    \n    .. [#] Rainbow colormaps, ``jet`` in particular, are considered a poor\n      choice for scientific visualization by many researchers: `Rainbow Color\n      Map (Still) Considered Harmful\n      <http://ieeexplore.ieee.org/document/4118486/?arnumber=4118486>`_\n    \n    .. [#] Resembles \"BkBlAqGrYeOrReViWh200\" from NCAR Command\n      Language. See `Color Table Gallery\n      <http://www.ncl.ucar.edu/Document/Graphics/color_table_gallery.shtml>`_\n    \n    .. [#] See `Diverging Color Maps for Scientific Visualization\n      <http://www.kennethmoreland.com/color-maps/>`_ by Kenneth Moreland.\n    \n    .. [#] See `A Color Map for Effective Black-and-White Rendering of\n      Color-Scale Images\n      <http://www.mathworks.com/matlabcentral/fileexchange/2662-cmrmap-m>`_\n      by Carey Rappaport\n    \n    .. [#] Changed to distinguish from ColorBrewer's *Spectral* map.\n      :func:`spectral` still works, but\n      ``set_cmap('nipy_spectral')`` is recommended for clarity.\n\n"
     ]
    }
   ],
   "source": [
    "help(plt.colormaps)"
   ]
  },
  {
   "cell_type": "code",
   "execution_count": null,
   "metadata": {},
   "outputs": [],
   "source": [
    ""
   ]
  }
 ],
 "metadata": {
  "kernelspec": {
   "display_name": "Python 2",
   "language": "python",
   "name": "python2"
  },
  "language_info": {
   "codemirror_mode": {
    "name": "ipython",
    "version": 2.0
   },
   "file_extension": ".py",
   "mimetype": "text/x-python",
   "name": "python",
   "nbconvert_exporter": "python",
   "pygments_lexer": "ipython2",
   "version": "2.7.6"
  }
 },
 "nbformat": 4,
 "nbformat_minor": 0
}