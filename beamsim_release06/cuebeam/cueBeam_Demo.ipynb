{
 "cells": [
  {
   "cell_type": "markdown",
   "metadata": {},
   "source": [
    "# cueBeam demonstration\n",
    "\n",
    "## Set-up\n",
    "\n",
    "1. Start the message broker service. Refer to RabbitMQ documentation to learn how to do that.\n",
    "2. Start redis server. Refer to Redis documentation to learn how to do that.\n",
    "2. Start the Celery workers. You can use \"StartWorker.cmd\" script. Note that the workers must be on computers that do have CUDA cards. Multiple GPUs are supported - the strategy is that each task goes to a randomly selected GPU from the pool. (TODO: come up with implementation of a better strategy)\n",
    "3. Run this code:"
   ]
  },
  {
   "cell_type": "code",
   "execution_count": 7,
   "metadata": {
    "collapsed": false
   },
   "outputs": [
    {
     "name": "stdout",
     "output_type": "stream",
     "text": [
      "calling remote worker and waiting\n"
     ]
    }
   ],
   "source": [
    "import cuebeam\n",
    "from cuebeam import cueBeamCore3\n",
    "cueBeamCore3.enable_verbosity()  # for debugging\n",
    "cueBeamCore3.demo()"
   ]
  },
  {
   "cell_type": "markdown",
   "metadata": {},
   "source": [
    "## Using the code for real:\n",
    "At this time, this code is generally intended to be used from Matlab. Go to the matlab script, \"run_cueBeam_in_matlab.m\" for more documentation"
   ]
  }
 ],
 "metadata": {
  "kernelspec": {
   "display_name": "Python 3",
   "language": "python",
   "name": "python3"
  },
  "language_info": {
   "codemirror_mode": {
    "name": "ipython",
    "version": 3.0
   },
   "file_extension": ".py",
   "mimetype": "text/x-python",
   "name": "python",
   "nbconvert_exporter": "python",
   "pygments_lexer": "ipython3",
   "version": "3.6.0"
  }
 },
 "nbformat": 4,
 "nbformat_minor": 0
}